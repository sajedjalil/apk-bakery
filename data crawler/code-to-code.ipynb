{
 "cells": [
  {
   "cell_type": "code",
   "execution_count": 1,
   "id": "2ca4b0c0-2cec-435a-bebb-7732d2443fa0",
   "metadata": {},
   "outputs": [],
   "source": [
    "from openpyxl import load_workbook\n",
    "import pandas as pd"
   ]
  },
  {
   "cell_type": "code",
   "execution_count": 3,
   "id": "2d1e2b16-0bff-4699-8eba-98ba46420111",
   "metadata": {},
   "outputs": [],
   "source": [
    "df = pd.read_excel('kotlin-mapping-test.xlsx', sheet_name = 'data')"
   ]
  },
  {
   "cell_type": "code",
   "execution_count": 4,
   "id": "a3499f5f-f68d-4a1b-8393-16a70ef9c6ad",
   "metadata": {},
   "outputs": [
    {
     "data": {
      "text/plain": [
       "257543"
      ]
     },
     "execution_count": 4,
     "metadata": {},
     "output_type": "execute_result"
    }
   ],
   "source": [
    "len(df)"
   ]
  },
  {
   "cell_type": "code",
   "execution_count": 11,
   "id": "a0d653f3-3fb8-428c-80f3-263b60b96870",
   "metadata": {},
   "outputs": [
    {
     "data": {
      "text/plain": [
       "array(['com.byagowi.persiancalendar', 'com.iven.musicplayergo',\n",
       "       'com.greenaddress.greenbits_android_wallet', 'ws.xsoh.etar',\n",
       "       'com.duckduckgo.mobile.android', 'com.better.alarm', 'com.fsck.k9'],\n",
       "      dtype=object)"
      ]
     },
     "execution_count": 11,
     "metadata": {},
     "output_type": "execute_result"
    }
   ],
   "source": [
    "df[0].unique()"
   ]
  },
  {
   "cell_type": "code",
   "execution_count": null,
   "id": "d152a7d4-c05c-4821-809e-92510c9d3f1b",
   "metadata": {},
   "outputs": [],
   "source": []
  }
 ],
 "metadata": {
  "kernelspec": {
   "display_name": "Python 3 (ipykernel)",
   "language": "python",
   "name": "python3"
  },
  "language_info": {
   "codemirror_mode": {
    "name": "ipython",
    "version": 3
   },
   "file_extension": ".py",
   "mimetype": "text/x-python",
   "name": "python",
   "nbconvert_exporter": "python",
   "pygments_lexer": "ipython3",
   "version": "3.8.10"
  }
 },
 "nbformat": 4,
 "nbformat_minor": 5
}
