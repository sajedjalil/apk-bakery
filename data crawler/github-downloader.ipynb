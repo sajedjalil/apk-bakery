{
 "cells": [
  {
   "cell_type": "code",
   "execution_count": 15,
   "id": "540cd55a-23ac-4516-b344-a378d543f4da",
   "metadata": {},
   "outputs": [],
   "source": [
    "import pandas as pd\n",
    "import os\n",
    "from git import Repo, GitCommandError"
   ]
  },
  {
   "cell_type": "code",
   "execution_count": 16,
   "id": "6180fdc0-a44f-4057-9597-3e51c9ce8e6e",
   "metadata": {},
   "outputs": [
    {
     "name": "stdout",
     "output_type": "stream",
     "text": [
      "Requirement already satisfied: openpyxl in /home/sajed/anaconda3/envs/apk-bakery/lib/python3.10/site-packages (3.0.9)\n",
      "Requirement already satisfied: et-xmlfile in /home/sajed/anaconda3/envs/apk-bakery/lib/python3.10/site-packages (from openpyxl) (1.1.0)\n",
      "Requirement already satisfied: gitpython in /home/sajed/anaconda3/envs/apk-bakery/lib/python3.10/site-packages (3.1.27)\n",
      "Requirement already satisfied: gitdb<5,>=4.0.1 in /home/sajed/anaconda3/envs/apk-bakery/lib/python3.10/site-packages (from gitpython) (4.0.9)\n",
      "Requirement already satisfied: smmap<6,>=3.0.1 in /home/sajed/anaconda3/envs/apk-bakery/lib/python3.10/site-packages (from gitdb<5,>=4.0.1->gitpython) (5.0.0)\n"
     ]
    }
   ],
   "source": [
    "!pip install openpyxl\n",
    "!pip install gitpython"
   ]
  },
  {
   "cell_type": "code",
   "execution_count": 17,
   "id": "db31589e-d1e3-4db5-9eb4-9269c7d4b2b0",
   "metadata": {},
   "outputs": [],
   "source": [
    "df = pd.read_excel (r'shortdatasheet.xlsx')"
   ]
  },
  {
   "cell_type": "code",
   "execution_count": 18,
   "id": "709ca453-52d6-4d17-baf0-96762a6c94cf",
   "metadata": {},
   "outputs": [
    {
     "name": "stdout",
     "output_type": "stream",
     "text": [
      "OpenDocument Reader\n",
      "Not Found or already exists: OpenDocument Reader\n",
      "Vanilla Music\n",
      "Not Found or already exists: Vanilla Music\n",
      "Rocket.Chat\n",
      "Not Found or already exists: Rocket.Chat\n",
      "AELF - Bible and day's reading\n",
      "Not Found or already exists: AELF - Bible and day's reading\n",
      "Simple Scrobbler\n",
      "Not Found or already exists: Simple Scrobbler\n",
      "Amaze\n",
      "Not Found or already exists: Amaze\n",
      "BookList\n",
      "Not Found or already exists: BookList\n",
      "Goodtime - Minimalist Pomodoro Timer\n",
      "Not Found or already exists: Goodtime - Minimalist Pomodoro Timer\n",
      "Simple Alarm Clock\n",
      "Not Found or already exists: Simple Alarm Clock\n",
      "Money Tracker\n",
      "Not Found or already exists: Money Tracker\n",
      "Persian Calendar\n",
      "Not Found or already exists: Persian Calendar\n",
      "Sound Recorder\n",
      "Not Found or already exists: Sound Recorder\n",
      "DuckDuckGo Privacy Browser\n",
      "Not Found or already exists: DuckDuckGo Privacy Browser\n",
      "Diaguard\n",
      "Not Found or already exists: Diaguard\n",
      "Cache Cleaner\n",
      "Not Found or already exists: Cache Cleaner\n",
      "Periodic Table\n",
      "Not Found or already exists: Periodic Table\n",
      "K-9 Mail\n",
      "Not Found or already exists: K-9 Mail\n",
      "arXiv eXplorer - Mobile App for arXiv.org\n",
      "Not Found or already exists: arXiv eXplorer - Mobile App for arXiv.org\n",
      "QuickLyric\n",
      "Not Found or already exists: QuickLyric\n",
      "FillUp\n",
      "Not Found or already exists: FillUp\n",
      "Authenticator\n",
      "Not Found or already exists: Authenticator\n",
      "Barcode Scanner\n",
      "Not Found or already exists: Barcode Scanner\n",
      "Green\n",
      "Not Found or already exists: Green\n",
      "Pdf Viewer Plus\n",
      "Not Found or already exists: Pdf Viewer Plus\n",
      "Hash Droid\n",
      "Not Found or already exists: Hash Droid\n",
      "Music Player GO\n",
      "Not Found or already exists: Music Player GO\n",
      "Helsinki Timetables\n",
      "Not Found or already exists: Helsinki Timetables\n",
      "Screen Shift\n",
      "Not Found or already exists: Screen Shift\n",
      "Kodi\n",
      "Not Found or already exists: Kodi\n",
      "Orbot: Tor for Android\n",
      "Not Found or already exists: Orbot: Tor for Android\n",
      "Antennapod\n",
      "Not Found or already exists: Antennapod\n",
      "Etar - OpenSource Calendar\n",
      "Not Found or already exists: Etar - OpenSource Calendar\n",
      "Omni Notes\n"
     ]
    }
   ],
   "source": [
    " # print(os.getcwd())\n",
    "\n",
    "for cols in df.index:\n",
    "    git_url = df['SourceCode'][cols]\n",
    "    # print(df['Name'][cols])\n",
    "    repo_dir = os.path.join( os.getcwd(), 'code' ,df['Name'][cols])\n",
    "    \n",
    "    \n",
    "    try:\n",
    "      print(df['Name'][cols])\n",
    "      Repo.clone_from(git_url, repo_dir)\n",
    "    except GitCommandError:\n",
    "      print(\"Not Found or already exists: \" + df['Name'][cols])\n",
    "    "
   ]
  },
  {
   "cell_type": "code",
   "execution_count": 20,
   "id": "1356a108-1845-4995-8a8d-ef12318993d4",
   "metadata": {},
   "outputs": [
    {
     "name": "stdout",
     "output_type": "stream",
     "text": [
      "Total Number of directories 34\n"
     ]
    }
   ],
   "source": [
    "import os\n",
    "APP_FOLDER = os.getcwd()\n",
    "totalDir = 0\n",
    "for dirs in os.listdir( os.path.join( os.getcwd(), 'code') ):\n",
    "    totalDir += 1\n",
    "\n",
    "print('Total Number of directories',totalDir)"
   ]
  },
  {
   "cell_type": "code",
   "execution_count": 21,
   "id": "ce17a1dd-d87a-48dd-88a3-22590d99419b",
   "metadata": {},
   "outputs": [],
   "source": [
    "from apk_downloader import *"
   ]
  },
  {
   "cell_type": "code",
   "execution_count": 22,
   "id": "21ddcf8e-55e2-4ae9-8468-439bf194f095",
   "metadata": {},
   "outputs": [
    {
     "name": "stdout",
     "output_type": "stream",
     "text": [
      "at.tomtasche.reader Already Exists!\n",
      "ch.blinkenlights.android.vanilla Already Exists!\n",
      "chat.rocket.android Already Exists!\n",
      "co.epitre.aelf_lectures Already Exists!\n",
      "com.adam.aslfms Already Exists!\n",
      "com.amaze.filemanager Already Exists!\n",
      "com.ames.books Already Exists!\n",
      "com.apps.adrcotfas.goodtime Already Exists!\n",
      "com.better.alarm Already Exists!\n",
      "com.blogspot.e_kanivets.moneytracker No results\n",
      "com.byagowi.persiancalendar Already Exists!\n",
      "com.danielkim.soundrecorder Already Exists!\n",
      "com.duckduckgo.mobile.android Already Exists!\n",
      "com.faltenreich.diaguard Already Exists!\n",
      "com.frozendevs.cache.cleaner Already Exists!\n",
      "com.frozendevs.periodictable Already Exists!\n",
      "com.fsck.k9 Already Exists!\n",
      "com.gbeatty.arxiv Already Exists!\n",
      "com.geecko.QuickLyric Already Exists!\n",
      "com.github.wdkapps.fillup Already Exists!\n",
      "com.google.android.apps.authenticator2 Already Exists!\n",
      "com.google.zxing.client.android Already Exists!\n",
      "com.greenaddress.greenbits_android_wallet Already Exists!\n",
      "com.gsnathan.pdfviewer Already Exists!\n",
      "com.hobbyone.HashDroid Already Exists!\n",
      "com.iven.musicplayergo Already Exists!\n",
      "com.redblaster.hsl.main Already Exists!\n",
      "com.sagar.screenshift2 Already Exists!\n",
      "org.xbmc.kodi Already Exists!\n",
      "org.torproject.android Already Exists!\n",
      "de.danoeh.antennapod Already Exists!\n",
      "ws.xsoh.etar Already Exists!\n",
      "Downloading https://apkpure.com/standard-notes/com.standardnotes.apk ...\n",
      "it.feio.android.omninotes Download completed!\n"
     ]
    }
   ],
   "source": [
    "apk_output_folder = 'apks'\n",
    "\n",
    "for cols in df.index:\n",
    "    google_package_name = df['Package'][cols]\n",
    "    \n",
    "    if df['Name'][cols] in os.listdir( os.path.join( os.getcwd(), 'code')) :\n",
    "        download_apk( apk_output_folder, google_package_name)\n",
    "    # try:\n",
    "    #   print(df['Name'][cols])\n",
    "    #   Repo.clone_from(git_url, repo_dir, bare=True)\n",
    "    # except GitCommandError:\n",
    "    #   print(\"Not Found or already exists: \" + df['Name'][cols])"
   ]
  },
  {
   "cell_type": "code",
   "execution_count": 23,
   "id": "ec927d1f-faf4-466b-abbf-ea4a5b3b0c38",
   "metadata": {},
   "outputs": [
    {
     "name": "stdout",
     "output_type": "stream",
     "text": [
      "32\n"
     ]
    }
   ],
   "source": [
    "import os\n",
    "APP_FOLDER = os.getcwd()\n",
    "totalDir = 0\n",
    "print( len( os.listdir( os.path.join( os.getcwd(), 'apks'))) )"
   ]
  },
  {
   "cell_type": "code",
   "execution_count": 24,
   "id": "bcea09af-e7a1-4c87-94c6-05b8ef0213e0",
   "metadata": {},
   "outputs": [
    {
     "name": "stdout",
     "output_type": "stream",
     "text": [
      "apks/com.duckduckgo.mobile.android.apk\n",
      "apks/com.byagowi.persiancalendar.apk\n",
      "apks/co.epitre.aelf_lectures.apk\n",
      "apks/com.greenaddress.greenbits_android_wallet.apk\n",
      "apks/com.redblaster.hsl.main.apk\n",
      "apks/com.faltenreich.diaguard.apk\n",
      "apks/com.gsnathan.pdfviewer.apk\n",
      "apks/com.google.zxing.client.android.apk\n",
      "apks/ws.xsoh.etar.apk\n",
      "apks/chat.rocket.android.apk\n",
      "apks/ch.blinkenlights.android.vanilla.apk\n",
      "apks/com.apps.adrcotfas.goodtime.apk\n",
      "apks/com.danielkim.soundrecorder.apk\n",
      "apks/com.iven.musicplayergo.apk\n",
      "apks/com.frozendevs.periodictable.apk\n",
      "apks/org.xbmc.kodi.apk\n",
      "apks/com.github.wdkapps.fillup.apk\n",
      "apks/com.gbeatty.arxiv.apk\n",
      "apks/com.amaze.filemanager.apk\n",
      "apks/com.geecko.QuickLyric.apk\n",
      "apks/com.better.alarm.apk\n",
      "apks/it.feio.android.omninotes.apk\n",
      "apks/com.adam.aslfms.apk\n",
      "apks/de.danoeh.antennapod.apk\n",
      "apks/com.hobbyone.HashDroid.apk\n",
      "apks/com.google.android.apps.authenticator2.apk\n",
      "apks/com.frozendevs.cache.cleaner.apk\n",
      "apks/com.sagar.screenshift2.apk\n",
      "apks/at.tomtasche.reader.apk\n",
      "apks/org.torproject.android.apk\n",
      "apks/com.fsck.k9.apk\n",
      "apks/com.ames.books.apk\n"
     ]
    }
   ],
   "source": [
    "print(\"\\n\".join(  [str(os.path.join(apk_output_folder, item)) for item in os.listdir( os.path.join( os.getcwd(), 'apks'))]  ))"
   ]
  },
  {
   "cell_type": "code",
   "execution_count": 25,
   "id": "03e3c4af-41d2-43b6-924c-53d9fefccbf3",
   "metadata": {},
   "outputs": [],
   "source": [
    "with open(\"apps.txt\", \"w\") as outfile:\n",
    "    outfile.write(\"\\n\".join(  [str(os.path.join(apk_output_folder, item)) for item in os.listdir( os.path.join( os.getcwd(), 'apks'))]  ))"
   ]
  },
  {
   "cell_type": "code",
   "execution_count": null,
   "id": "7a37fd45-36c0-4e7a-8576-6ef77a7a8e31",
   "metadata": {},
   "outputs": [],
   "source": []
  }
 ],
 "metadata": {
  "kernelspec": {
   "display_name": "Python 3 (ipykernel)",
   "language": "python",
   "name": "python3"
  },
  "language_info": {
   "codemirror_mode": {
    "name": "ipython",
    "version": 3
   },
   "file_extension": ".py",
   "mimetype": "text/x-python",
   "name": "python",
   "nbconvert_exporter": "python",
   "pygments_lexer": "ipython3",
   "version": "3.8.10"
  }
 },
 "nbformat": 4,
 "nbformat_minor": 5
}
