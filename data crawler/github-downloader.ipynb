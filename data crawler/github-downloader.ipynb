{
 "cells": [
  {
   "cell_type": "code",
   "execution_count": 18,
   "id": "540cd55a-23ac-4516-b344-a378d543f4da",
   "metadata": {},
   "outputs": [],
   "source": [
    "import pandas as pd\n",
    "import os\n",
    "from git import Repo, GitCommandError"
   ]
  },
  {
   "cell_type": "code",
   "execution_count": 19,
   "id": "6180fdc0-a44f-4057-9597-3e51c9ce8e6e",
   "metadata": {},
   "outputs": [
    {
     "name": "stdout",
     "output_type": "stream",
     "text": [
      "Requirement already satisfied: openpyxl in /home/sajed/anaconda3/envs/apk-bakery/lib/python3.10/site-packages (3.0.9)\n",
      "Requirement already satisfied: et-xmlfile in /home/sajed/anaconda3/envs/apk-bakery/lib/python3.10/site-packages (from openpyxl) (1.1.0)\n",
      "Requirement already satisfied: gitpython in /home/sajed/anaconda3/envs/apk-bakery/lib/python3.10/site-packages (3.1.27)\n",
      "Requirement already satisfied: gitdb<5,>=4.0.1 in /home/sajed/anaconda3/envs/apk-bakery/lib/python3.10/site-packages (from gitpython) (4.0.9)\n",
      "Requirement already satisfied: smmap<6,>=3.0.1 in /home/sajed/anaconda3/envs/apk-bakery/lib/python3.10/site-packages (from gitdb<5,>=4.0.1->gitpython) (5.0.0)\n"
     ]
    }
   ],
   "source": [
    "!pip install openpyxl\n",
    "!pip install gitpython"
   ]
  },
  {
   "cell_type": "code",
   "execution_count": 20,
   "id": "db31589e-d1e3-4db5-9eb4-9269c7d4b2b0",
   "metadata": {},
   "outputs": [],
   "source": [
    "df = pd.read_excel (r'shortdatasheet.xlsx')"
   ]
  },
  {
   "cell_type": "code",
   "execution_count": 21,
   "id": "709ca453-52d6-4d17-baf0-96762a6c94cf",
   "metadata": {},
   "outputs": [
    {
     "name": "stdout",
     "output_type": "stream",
     "text": [
      "Barcode Scanner\n",
      "Authenticator\n",
      "DuckDuckGo Privacy Browser\n",
      "OpenDocument Reader\n",
      "K-9 Mail\n",
      "Amaze\n",
      "Simple Alarm Clock\n",
      "Persian Calendar\n",
      "Screen Shift\n",
      "Vanilla Music\n",
      "Rocket.Chat\n",
      "AELF - Bible and day's reading\n",
      "Simple Scrobbler\n",
      "Goodtime - Minimalist Pomodoro Timer\n",
      "FillUp\n",
      "Green\n",
      "Hash Droid\n",
      "Music Player GO\n",
      "Helsinki Timetables\n",
      "Diaguard\n",
      "Periodic Table\n",
      "arXiv eXplorer - Mobile App for arXiv.org\n",
      "Pdf Viewer Plus\n",
      "BookList\n",
      "Money Tracker\n",
      "Cache Cleaner\n",
      "Sound Recorder\n",
      "QuickLyric\n"
     ]
    }
   ],
   "source": [
    " # print(os.getcwd())\n",
    "\n",
    "for cols in df.index:\n",
    "    git_url = df['SourceCode'][cols]\n",
    "    # print(df['Name'][cols])\n",
    "    repo_dir = os.path.join( os.getcwd(), 'code' ,df['Name'][cols])\n",
    "    \n",
    "    \n",
    "    try:\n",
    "      print(df['Name'][cols])\n",
    "      Repo.clone_from(git_url, repo_dir)\n",
    "    except GitCommandError:\n",
    "      print(\"Not Found or already exists: \" + df['Name'][cols])\n",
    "    "
   ]
  },
  {
   "cell_type": "code",
   "execution_count": 22,
   "id": "1356a108-1845-4995-8a8d-ef12318993d4",
   "metadata": {},
   "outputs": [
    {
     "name": "stdout",
     "output_type": "stream",
     "text": [
      "Total Number of directories 28\n"
     ]
    }
   ],
   "source": [
    "import os\n",
    "APP_FOLDER = os.getcwd()\n",
    "totalDir = 0\n",
    "for dirs in os.listdir( os.path.join( os.getcwd(), 'code') ):\n",
    "    totalDir += 1\n",
    "\n",
    "print('Total Number of directories',totalDir)"
   ]
  },
  {
   "cell_type": "code",
   "execution_count": 23,
   "id": "ce17a1dd-d87a-48dd-88a3-22590d99419b",
   "metadata": {},
   "outputs": [],
   "source": [
    "from apk_downloader import *"
   ]
  },
  {
   "cell_type": "code",
   "execution_count": 24,
   "id": "21ddcf8e-55e2-4ae9-8468-439bf194f095",
   "metadata": {},
   "outputs": [
    {
     "name": "stdout",
     "output_type": "stream",
     "text": [
      "Downloading https://apkpure.com/barcode-scanner/com.google.zxing.client.android.apk ...\n",
      "com.google.zxing.client.android Download completed!\n",
      "Downloading https://apkpure.com/google-authenticator/com.google.android.apps.authenticator2.apk ...\n",
      "com.google.android.apps.authenticator2 Download completed!\n",
      "Downloading https://apkpure.com/duckduckgo-privacy-browser/com.duckduckgo.mobile.android.apk ...\n",
      "com.duckduckgo.mobile.android Download completed!\n",
      "Downloading https://apkpure.com/libreoffice-openoffice-document-reader-odf/at.tomtasche.reader.apk ...\n",
      "at.tomtasche.reader Download completed!\n",
      "Downloading https://apkpure.com/k-9-mail/com.fsck.k9.apk ...\n",
      "com.fsck.k9 Download completed!\n",
      "Downloading https://apkpure.com/amaze-file-manager/com.amaze.filemanager.apk ...\n",
      "com.amaze.filemanager Download completed!\n",
      "Downloading https://apkpure.com/simple-alarm-clock/com.better.alarm.apk ...\n",
      "com.better.alarm Download completed!\n",
      "Downloading https://apkpure.com/persian-calendar/com.byagowi.persiancalendar.apk ...\n",
      "com.byagowi.persiancalendar Download completed!\n",
      "Downloading https://apkpure.com/screen-shift/com.sagar.screenshift2.apk ...\n",
      "com.sagar.screenshift2 Download completed!\n",
      "Downloading https://apkpure.com/vanilla-music/ch.blinkenlights.android.vanilla.apk ...\n",
      "ch.blinkenlights.android.vanilla Download completed!\n",
      "Downloading https://apkpure.com/rocket-chat/chat.rocket.android.apk ...\n",
      "chat.rocket.android Download completed!\n",
      "Downloading https://apkpure.com/aelf-bible-et-lectures-du-jour/co.epitre.aelf_lectures.apk ...\n",
      "co.epitre.aelf_lectures Download completed!\n",
      "Downloading https://apkpure.com/simple-scrobbler/com.adam.aslfms.apk ...\n",
      "com.adam.aslfms Download completed!\n",
      "Downloading https://apkpure.com/goodtime-un-minuteur-de-productivit%C3%A9-pomodoro/com.apps.adrcotfas.goodtime.apk ...\n",
      "com.apps.adrcotfas.goodtime Download completed!\n",
      "Downloading https://apkpure.com/fillup-gas-mileage-log/com.github.wdkapps.fillup.apk ...\n",
      "com.github.wdkapps.fillup Download completed!\n",
      "Downloading https://apkpure.com/green-bitcoin-wallet/com.greenaddress.greenbits_android_wallet.apk ...\n",
      "com.greenaddress.greenbits_android_wallet Download completed!\n",
      "Downloading https://apkpure.com/hash-droid/com.hobbyone.HashDroid.apk ...\n",
      "com.hobbyone.HashDroid Download completed!\n",
      "Downloading https://apkpure.com/music-player-go/com.iven.musicplayergo.apk ...\n",
      "com.iven.musicplayergo Download completed!\n",
      "Downloading https://apkpure.com/helsinki-timetables/com.redblaster.hsl.main.apk ...\n",
      "com.redblaster.hsl.main Download completed!\n",
      "Downloading https://apkpure.com/diaguard-diabetes-diary/com.faltenreich.diaguard.apk ...\n",
      "com.faltenreich.diaguard Download completed!\n",
      "Downloading https://apkpure.com/periodic-table/com.frozendevs.periodictable.apk ...\n",
      "com.frozendevs.periodictable Download completed!\n",
      "Downloading https://apkpure.com/arxiv-explorer-mobile-app-for-arxiv-org/com.gbeatty.arxiv.apk ...\n",
      "com.gbeatty.arxiv Download completed!\n",
      "Downloading https://apkpure.com/pdf-viewer-plus/com.gsnathan.pdfviewer.apk ...\n",
      "com.gsnathan.pdfviewer Download completed!\n",
      "Downloading https://apkpure.com/unofficial-books-viewer/com.ames.books.apk ...\n",
      "com.ames.books Download completed!\n",
      "com.blogspot.e_kanivets.moneytracker No results\n",
      "Downloading https://apkpure.com/cache-cleaner/com.frozendevs.cache.cleaner.apk ...\n",
      "com.frozendevs.cache.cleaner Download completed!\n",
      "Downloading https://apkpure.com/easy-sound-recorder/com.danielkim.soundrecorder.apk ...\n",
      "com.danielkim.soundrecorder Download completed!\n",
      "Downloading https://apkpure.com/quicklyric-instant-lyrics/com.geecko.QuickLyric.apk ...\n",
      "com.geecko.QuickLyric Download completed!\n"
     ]
    }
   ],
   "source": [
    "apk_output_folder = 'apks'\n",
    "\n",
    "for cols in df.index:\n",
    "    google_package_name = df['Package'][cols]\n",
    "    \n",
    "    if df['Name'][cols] in os.listdir( os.path.join( os.getcwd(), 'code')) :\n",
    "        download_apk( apk_output_folder, google_package_name)\n",
    "    # try:\n",
    "    #   print(df['Name'][cols])\n",
    "    #   Repo.clone_from(git_url, repo_dir, bare=True)\n",
    "    # except GitCommandError:\n",
    "    #   print(\"Not Found or already exists: \" + df['Name'][cols])"
   ]
  },
  {
   "cell_type": "code",
   "execution_count": 25,
   "id": "ec927d1f-faf4-466b-abbf-ea4a5b3b0c38",
   "metadata": {},
   "outputs": [
    {
     "name": "stdout",
     "output_type": "stream",
     "text": [
      "27\n"
     ]
    }
   ],
   "source": [
    "import os\n",
    "APP_FOLDER = os.getcwd()\n",
    "totalDir = 0\n",
    "print( len( os.listdir( os.path.join( os.getcwd(), 'apks'))) )"
   ]
  },
  {
   "cell_type": "code",
   "execution_count": 27,
   "id": "bcea09af-e7a1-4c87-94c6-05b8ef0213e0",
   "metadata": {},
   "outputs": [
    {
     "name": "stdout",
     "output_type": "stream",
     "text": [
      "apks/com.duckduckgo.mobile.android.apk\n",
      "apks/com.byagowi.persiancalendar.apk\n",
      "apks/co.epitre.aelf_lectures.apk\n",
      "apks/com.greenaddress.greenbits_android_wallet.apk\n",
      "apks/com.redblaster.hsl.main.apk\n",
      "apks/com.faltenreich.diaguard.apk\n",
      "apks/com.gsnathan.pdfviewer.apk\n",
      "apks/com.google.zxing.client.android.apk\n",
      "apks/chat.rocket.android.apk\n",
      "apks/ch.blinkenlights.android.vanilla.apk\n",
      "apks/com.apps.adrcotfas.goodtime.apk\n",
      "apks/com.danielkim.soundrecorder.apk\n",
      "apks/com.iven.musicplayergo.apk\n",
      "apks/com.frozendevs.periodictable.apk\n",
      "apks/com.github.wdkapps.fillup.apk\n",
      "apks/com.gbeatty.arxiv.apk\n",
      "apks/com.amaze.filemanager.apk\n",
      "apks/com.geecko.QuickLyric.apk\n",
      "apks/com.better.alarm.apk\n",
      "apks/com.adam.aslfms.apk\n",
      "apks/com.hobbyone.HashDroid.apk\n",
      "apks/com.google.android.apps.authenticator2.apk\n",
      "apks/com.frozendevs.cache.cleaner.apk\n",
      "apks/com.sagar.screenshift2.apk\n",
      "apks/at.tomtasche.reader.apk\n",
      "apks/com.fsck.k9.apk\n",
      "apks/com.ames.books.apk\n"
     ]
    }
   ],
   "source": [
    "print(\"\\n\".join(  [str(os.path.join(apk_output_folder, item)) for item in os.listdir( os.path.join( os.getcwd(), 'apks'))]  ))"
   ]
  },
  {
   "cell_type": "code",
   "execution_count": 28,
   "id": "03e3c4af-41d2-43b6-924c-53d9fefccbf3",
   "metadata": {},
   "outputs": [],
   "source": [
    "with open(\"apps.txt\", \"w\") as outfile:\n",
    "    outfile.write(\"\\n\".join(  [str(os.path.join(apk_output_folder, item)) for item in os.listdir( os.path.join( os.getcwd(), 'apks'))]  ))"
   ]
  },
  {
   "cell_type": "code",
   "execution_count": null,
   "id": "7a37fd45-36c0-4e7a-8576-6ef77a7a8e31",
   "metadata": {},
   "outputs": [],
   "source": []
  }
 ],
 "metadata": {
  "kernelspec": {
   "display_name": "Python 3 (ipykernel)",
   "language": "python",
   "name": "python3"
  },
  "language_info": {
   "codemirror_mode": {
    "name": "ipython",
    "version": 3
   },
   "file_extension": ".py",
   "mimetype": "text/x-python",
   "name": "python",
   "nbconvert_exporter": "python",
   "pygments_lexer": "ipython3",
   "version": "3.8.10"
  }
 },
 "nbformat": 4,
 "nbformat_minor": 5
}
