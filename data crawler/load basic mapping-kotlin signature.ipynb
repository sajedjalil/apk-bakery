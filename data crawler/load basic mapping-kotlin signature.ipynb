{
 "cells": [
  {
   "cell_type": "code",
   "execution_count": 1,
   "id": "6f37eadb-217b-48a2-baf1-aa202c5659c3",
   "metadata": {},
   "outputs": [],
   "source": [
    "from openpyxl import load_workbook\n",
    "import pandas as pd\n",
    "from kopyt import Parser, node"
   ]
  },
  {
   "cell_type": "code",
   "execution_count": 2,
   "id": "091f9375-f8f3-4a77-a232-80dcd89bf511",
   "metadata": {},
   "outputs": [
    {
     "name": "stdout",
     "output_type": "stream",
     "text": [
      "Requirement already satisfied: kopyt in /home/sajed/anaconda3/envs/mlfeed/lib/python3.10/site-packages (0.0.2)\n"
     ]
    }
   ],
   "source": [
    "!pip install -U kopyt"
   ]
  },
  {
   "cell_type": "code",
   "execution_count": 3,
   "id": "58539881-2569-45b3-ae08-aa5bc1065a37",
   "metadata": {},
   "outputs": [],
   "source": [
    "df = pd.read_excel('FinalDataset-test0.xlsx', sheet_name = 'data' )"
   ]
  },
  {
   "cell_type": "code",
   "execution_count": 4,
   "id": "e8d8d21e-9f2b-42e6-902f-cad99e26c333",
   "metadata": {},
   "outputs": [
    {
     "name": "stdout",
     "output_type": "stream",
     "text": [
      "Index(['package', 'xml', 'png', 'resourceId', 'filePath', 'location'], dtype='object')\n"
     ]
    }
   ],
   "source": [
    "print(df.columns)"
   ]
  },
  {
   "cell_type": "code",
   "execution_count": 5,
   "id": "99171a5e-454c-4079-aad9-d8052557adb0",
   "metadata": {},
   "outputs": [],
   "source": [
    "def getfileContent(path):\n",
    "    f = open(path, \"r\")\n",
    "    content = f.read()\n",
    "    \n",
    "    return content"
   ]
  },
  {
   "cell_type": "code",
   "execution_count": 6,
   "id": "38e54a72-a80f-4907-862f-6c3610fcfc95",
   "metadata": {},
   "outputs": [],
   "source": [
    "def nested(result, line):\n",
    "    \n",
    "    \n",
    "    finalCode = \"\"\n",
    "    for declaration in result: \n",
    "        # print(str(declaration.name))\n",
    "        if( isinstance(declaration, node.FunctionDeclaration) and line > declaration.position.line):\n",
    "            finalCode = str(declaration).replace( str(declaration.body), '')\n",
    "        \n",
    "        elif( isinstance(declaration, node.PropertyDeclaration) and line == declaration.position.line):\n",
    "            return str(declaration)\n",
    "        \n",
    "        elif( isinstance(declaration, node.EnumDeclaration) and line > declaration.position.line):\n",
    "            ffinalCode = str(declaration).replace( str(declaration.body), '')\n",
    "        \n",
    "        elif( isinstance(declaration, node.AnonymousInitializer) and line > declaration.position.line):\n",
    "            finalCode = str(declaration).replace( str(declaration.body), '')\n",
    "        \n",
    "        elif( isinstance(declaration, node.ClassDeclaration) and line >declaration.position.line and declaration.body is not None):\n",
    "            finalCode = nested( declaration.body.members , line)\n",
    "            \n",
    "        elif( isinstance(declaration, node.CompanionObject) and line > declaration.position.line and declaration.body is not None):\n",
    "            finalCode = nested( declaration.body.members , line)\n",
    "    \n",
    "    return finalCode\n",
    "\n",
    "\n",
    "def getResultForKotlin(code, line):\n",
    "    \n",
    "    \n",
    "    parser = Parser(code)\n",
    "    result = parser.parse()\n",
    "    \n",
    "    finalCode = \"\"\n",
    "\n",
    "    # print(type(result), type(result.declarations))\n",
    "    for declaration in result.declarations: \n",
    "        \n",
    "        # print(type(declaration))\n",
    "        if( isinstance(declaration, node.FunctionDeclaration) and line > declaration.position.line):\n",
    "            finalCode = str(declaration).replace( str(declaration.body), '')\n",
    "        \n",
    "        elif( isinstance(declaration, node.PropertyDeclaration) and line == declaration.position.line):\n",
    "            return str(declaration)\n",
    "        \n",
    "        elif( isinstance(declaration, node.AnonymousInitializer) and line > declaration.position.line):\n",
    "            finalCode = str(declaration).replace( str(declaration.body), '')\n",
    "            \n",
    "        elif( isinstance(declaration, node.EnumDeclaration) and line > declaration.position.line):\n",
    "            finalCode = str(declaration).replace( str(declaration.body), '')\n",
    "            \n",
    "        elif( isinstance(declaration, node.ClassDeclaration) and line > declaration.position.line and declaration.body is not None):\n",
    "            finalCode = nested( declaration.body.members , line)\n",
    "            \n",
    "        elif( isinstance(declaration, node.CompanionObject) and line > declaration.position.line and declaration.body is not None):\n",
    "            # finalCode = str(declaration)\n",
    "            finalCode = nested( declaration.body.members , line)\n",
    "       \n",
    "    \n",
    "    #Excludes tests\n",
    "    if finalCode.startswith('@ParameterizedTest') or finalCode.startswith('@Test'):\n",
    "        return ''\n",
    "    else:\n",
    "        return finalCode.split('=')[0].strip()"
   ]
  },
  {
   "cell_type": "code",
   "execution_count": 7,
   "id": "a9ddc197-6866-41bd-b799-9e8693248a52",
   "metadata": {},
   "outputs": [],
   "source": [
    "def formatResourceId(resourceId: str):\n",
    "    words = resourceId.split('_')\n",
    "    result: str = \"\"\n",
    "    for i in enumerate(words):\n",
    "        if( i[0] == 0 ):\n",
    "            result = result + i[1]\n",
    "        else:\n",
    "            result = result + i[1].capitalize()\n",
    "    \n",
    "    return result"
   ]
  },
  {
   "cell_type": "code",
   "execution_count": 8,
   "id": "ef6fa035-3585-4458-baa2-8f3ed03b208e",
   "metadata": {},
   "outputs": [],
   "source": [
    "def filterOverlappingName( data, column, resourceId):\n",
    "    column = column - 1\n",
    "    \n",
    "    # print(len(data), column)\n",
    "    if( column == 0 ):\n",
    "        return True\n",
    "    if data[column-1].isalpha() == True:\n",
    "        return False\n",
    "    if data[column-1] == '_':\n",
    "        return False\n",
    "    \n",
    "    \n",
    "    if len(data) <= column + len(resourceId):\n",
    "        return True;\n",
    "    if data[column + len(resourceId)].isalpha() == True:\n",
    "        return False\n",
    "    if data[column + len(resourceId)] == '_':\n",
    "        return False\n",
    "    \n",
    "    return True\n",
    "    "
   ]
  },
  {
   "cell_type": "code",
   "execution_count": 9,
   "id": "559f192d-1a98-480e-81ec-b71caefbc1bd",
   "metadata": {},
   "outputs": [
    {
     "name": "stdout",
     "output_type": "stream",
     "text": [
      "True\n",
      "True\n",
      "False\n",
      "True\n",
      "True\n",
      "True\n",
      "False\n",
      "True\n",
      "True\n",
      "True\n"
     ]
    }
   ],
   "source": [
    "print(filterOverlappingName(\"previous\", 1, \"previous\"))\n",
    "print(filterOverlappingName(\"  previous\", 3, \"previous\"))\n",
    "print(filterOverlappingName(\"  MyPrevious\", 5, \"previous\"))\n",
    "print(filterOverlappingName(\"  M.Previous\", 5, \"previous\"))\n",
    "print(filterOverlappingName(\".previous  \", 2, \"previous\"))\n",
    "print(filterOverlappingName(\"previous  \", 1, \"previous\"))\n",
    "print(filterOverlappingName(\".previousDay\", 2, \"previous\"))\n",
    "print(filterOverlappingName(\".previous \", 2, \"previous\"))\n",
    "print(filterOverlappingName(\".previous.m\", 2, \"previous\"))\n",
    "print(filterOverlappingName(\"l.previous\", 3, \"previous\"))"
   ]
  },
  {
   "cell_type": "code",
   "execution_count": null,
   "id": "334a1b44-66d1-4d51-a872-4f7e9deef25c",
   "metadata": {
    "tags": []
   },
   "outputs": [],
   "source": [
    "result = []\n",
    "counter = 0\n",
    "failed = 0\n",
    "\n",
    "for index, row in df.iterrows():\n",
    "    \n",
    "    path = row['filePath']\n",
    "    line = int( row['location'].split(',')[0].split('=')[-1])\n",
    "    col = int(row['location'].split(',')[1].split('=')[-1])\n",
    "    resourceId = formatResourceId(row['resourceId'].split('/')[-1])\n",
    "    \n",
    "    \n",
    "    code = getfileContent(path)\n",
    "    \n",
    "        \n",
    "    if path.split('.')[-1] == 'kt':\n",
    "        \n",
    "        try:\n",
    "            if filterOverlappingName(code.split('\\n')[ int(line)-1 ], col, resourceId) == False:\n",
    "                continue\n",
    "        except IndexError: \n",
    "            failed += 1\n",
    "            print('Index Error', resourceId, path, col, failed)\n",
    "            \n",
    "        counter += 1\n",
    "        if(counter % 500 == 0):\n",
    "            print(\"Index:\", index, \"parsed:\", counter, \"Failed:\", failed)\n",
    "        \n",
    "        cols = row.tolist()\n",
    "        cols.append(getResultForKotlin(code, int(line)))\n",
    "        result.append( cols)\n",
    "\n",
    "        \n"
   ]
  },
  {
   "cell_type": "code",
   "execution_count": 11,
   "id": "12b3be1d-5f56-4611-8ad5-3f8fdd15b827",
   "metadata": {
    "tags": []
   },
   "outputs": [],
   "source": [
    "\n",
    "kt = pd.DataFrame(result)"
   ]
  },
  {
   "cell_type": "code",
   "execution_count": 14,
   "id": "511b105c-1e4c-453d-89b1-4b2fac38fb62",
   "metadata": {},
   "outputs": [],
   "source": [
    "kt.to_excel( 'kotlin-mapping-short.xlsx', sheet_name='data', index = False)"
   ]
  },
  {
   "cell_type": "code",
   "execution_count": 15,
   "id": "138f9cd2-489e-422b-9387-09191b24b352",
   "metadata": {},
   "outputs": [
    {
     "data": {
      "text/plain": [
       "257543"
      ]
     },
     "execution_count": 15,
     "metadata": {},
     "output_type": "execute_result"
    }
   ],
   "source": [
    "len(kt)"
   ]
  },
  {
   "cell_type": "code",
   "execution_count": 19,
   "id": "708c23fa-1d4c-4360-9b12-f03d962ddfe0",
   "metadata": {},
   "outputs": [
    {
     "data": {
      "text/plain": [
       "738"
      ]
     },
     "execution_count": 19,
     "metadata": {},
     "output_type": "execute_result"
    }
   ],
   "source": [
    "len(kt[6].unique())"
   ]
  },
  {
   "cell_type": "code",
   "execution_count": 24,
   "id": "d1677ea0-228f-446d-9862-6aa26bdcc186",
   "metadata": {},
   "outputs": [
    {
     "data": {
      "text/plain": [
       "100"
      ]
     },
     "execution_count": 24,
     "metadata": {},
     "output_type": "execute_result"
    }
   ],
   "source": [
    "len(kt[3].unique())"
   ]
  },
  {
   "cell_type": "code",
   "execution_count": 55,
   "id": "e4fc008f-9c3b-492a-a975-8039ad4b171a",
   "metadata": {},
   "outputs": [
    {
     "data": {
      "text/plain": [
       "array(['com.byagowi.persiancalendar', 'com.iven.musicplayergo',\n",
       "       'com.greenaddress.greenbits_android_wallet', 'ws.xsoh.etar',\n",
       "       'com.duckduckgo.mobile.android', 'com.better.alarm', 'com.fsck.k9'],\n",
       "      dtype=object)"
      ]
     },
     "execution_count": 55,
     "metadata": {},
     "output_type": "execute_result"
    }
   ],
   "source": [
    "kt.columns = ['package', 'xml-path', 'png-path', 'resource-id', 'source-path','location', 'code']\n",
    "kt['package'].unique()"
   ]
  },
  {
   "cell_type": "code",
   "execution_count": 77,
   "id": "01998eeb-ecf8-428f-a69f-743215ad444a",
   "metadata": {},
   "outputs": [],
   "source": [
    "code_to_code_df = pd.DataFrame( kt[['package', 'resource-id', 'code']] )"
   ]
  },
  {
   "cell_type": "code",
   "execution_count": 78,
   "id": "61f32336-7db2-4d00-8b0e-d8114718c3bd",
   "metadata": {},
   "outputs": [
    {
     "data": {
      "text/html": [
       "<div>\n",
       "<style scoped>\n",
       "    .dataframe tbody tr th:only-of-type {\n",
       "        vertical-align: middle;\n",
       "    }\n",
       "\n",
       "    .dataframe tbody tr th {\n",
       "        vertical-align: top;\n",
       "    }\n",
       "\n",
       "    .dataframe thead th {\n",
       "        text-align: right;\n",
       "    }\n",
       "</style>\n",
       "<table border=\"1\" class=\"dataframe\">\n",
       "  <thead>\n",
       "    <tr style=\"text-align: right;\">\n",
       "      <th></th>\n",
       "      <th>package</th>\n",
       "      <th>resource-id</th>\n",
       "      <th>code</th>\n",
       "    </tr>\n",
       "  </thead>\n",
       "  <tbody>\n",
       "    <tr>\n",
       "      <th>0</th>\n",
       "      <td>com.byagowi.persiancalendar</td>\n",
       "      <td>com.byagowi.persiancalendar:id/previous</td>\n",
       "      <td>init</td>\n",
       "    </tr>\n",
       "    <tr>\n",
       "      <th>1</th>\n",
       "      <td>com.byagowi.persiancalendar</td>\n",
       "      <td>com.byagowi.persiancalendar:id/next</td>\n",
       "      <td>init</td>\n",
       "    </tr>\n",
       "    <tr>\n",
       "      <th>2</th>\n",
       "      <td>com.byagowi.persiancalendar</td>\n",
       "      <td>com.byagowi.persiancalendar:id/next</td>\n",
       "      <td></td>\n",
       "    </tr>\n",
       "    <tr>\n",
       "      <th>3</th>\n",
       "      <td>com.byagowi.persiancalendar</td>\n",
       "      <td>com.byagowi.persiancalendar:id/next</td>\n",
       "      <td>init</td>\n",
       "    </tr>\n",
       "    <tr>\n",
       "      <th>4</th>\n",
       "      <td>com.byagowi.persiancalendar</td>\n",
       "      <td>com.byagowi.persiancalendar:id/next</td>\n",
       "      <td>init</td>\n",
       "    </tr>\n",
       "    <tr>\n",
       "      <th>...</th>\n",
       "      <td>...</td>\n",
       "      <td>...</td>\n",
       "      <td>...</td>\n",
       "    </tr>\n",
       "    <tr>\n",
       "      <th>257538</th>\n",
       "      <td>com.fsck.k9</td>\n",
       "      <td>com.fsck.k9:id/next</td>\n",
       "      <td>@Throws(XmlPullParserException::class, IOExcep...</td>\n",
       "    </tr>\n",
       "    <tr>\n",
       "      <th>257539</th>\n",
       "      <td>com.fsck.k9</td>\n",
       "      <td>com.fsck.k9:id/next</td>\n",
       "      <td>private fun configureMenu(menu: Menu?)</td>\n",
       "    </tr>\n",
       "    <tr>\n",
       "      <th>257540</th>\n",
       "      <td>com.fsck.k9</td>\n",
       "      <td>com.fsck.k9:id/next</td>\n",
       "      <td>private fun configureMenu(menu: Menu?)</td>\n",
       "    </tr>\n",
       "    <tr>\n",
       "      <th>257541</th>\n",
       "      <td>com.fsck.k9</td>\n",
       "      <td>com.fsck.k9:id/next</td>\n",
       "      <td>private fun configureMenu(menu: Menu?)</td>\n",
       "    </tr>\n",
       "    <tr>\n",
       "      <th>257542</th>\n",
       "      <td>com.fsck.k9</td>\n",
       "      <td>com.fsck.k9:id/next</td>\n",
       "      <td>override fun onViewCreated(view: View, savedIn...</td>\n",
       "    </tr>\n",
       "  </tbody>\n",
       "</table>\n",
       "<p>257543 rows × 3 columns</p>\n",
       "</div>"
      ],
      "text/plain": [
       "                            package                              resource-id  \\\n",
       "0       com.byagowi.persiancalendar  com.byagowi.persiancalendar:id/previous   \n",
       "1       com.byagowi.persiancalendar      com.byagowi.persiancalendar:id/next   \n",
       "2       com.byagowi.persiancalendar      com.byagowi.persiancalendar:id/next   \n",
       "3       com.byagowi.persiancalendar      com.byagowi.persiancalendar:id/next   \n",
       "4       com.byagowi.persiancalendar      com.byagowi.persiancalendar:id/next   \n",
       "...                             ...                                      ...   \n",
       "257538                  com.fsck.k9                      com.fsck.k9:id/next   \n",
       "257539                  com.fsck.k9                      com.fsck.k9:id/next   \n",
       "257540                  com.fsck.k9                      com.fsck.k9:id/next   \n",
       "257541                  com.fsck.k9                      com.fsck.k9:id/next   \n",
       "257542                  com.fsck.k9                      com.fsck.k9:id/next   \n",
       "\n",
       "                                                     code  \n",
       "0                                                    init  \n",
       "1                                                    init  \n",
       "2                                                          \n",
       "3                                                    init  \n",
       "4                                                    init  \n",
       "...                                                   ...  \n",
       "257538  @Throws(XmlPullParserException::class, IOExcep...  \n",
       "257539             private fun configureMenu(menu: Menu?)  \n",
       "257540             private fun configureMenu(menu: Menu?)  \n",
       "257541             private fun configureMenu(menu: Menu?)  \n",
       "257542  override fun onViewCreated(view: View, savedIn...  \n",
       "\n",
       "[257543 rows x 3 columns]"
      ]
     },
     "execution_count": 78,
     "metadata": {},
     "output_type": "execute_result"
    }
   ],
   "source": [
    "code_to_code_df"
   ]
  },
  {
   "cell_type": "code",
   "execution_count": 79,
   "id": "4d63a321-4492-481d-94bf-2b53693c56ca",
   "metadata": {},
   "outputs": [],
   "source": [
    "for index, row in code_to_code_df.iterrows():\n",
    "    \n",
    "    if not row['code']:\n",
    "        row['code'] = None\n",
    "    \n",
    "    if row['resource-id']:\n",
    "        row['resource-id'] = row['resource-id'].split('/')[-1]\n",
    "    \n",
    "    row['package'] = row['package'].split('.')[-1]"
   ]
  },
  {
   "cell_type": "code",
   "execution_count": 80,
   "id": "2bc21c90-8440-4b1d-9c56-c142542d83be",
   "metadata": {},
   "outputs": [],
   "source": [
    "code_to_code_df = code_to_code_df.dropna()"
   ]
  },
  {
   "cell_type": "code",
   "execution_count": 81,
   "id": "234bc14b-6920-4d9e-b72f-ac3b904bed53",
   "metadata": {},
   "outputs": [
    {
     "data": {
      "text/plain": [
       "array(['persiancalendar', 'musicplayergo', 'greenbits_android_wallet',\n",
       "       'etar', 'android', 'alarm', 'k9'], dtype=object)"
      ]
     },
     "execution_count": 81,
     "metadata": {},
     "output_type": "execute_result"
    }
   ],
   "source": [
    "code_to_code_df['package'].unique()"
   ]
  },
  {
   "cell_type": "code",
   "execution_count": 82,
   "id": "99374db9-2834-4fd6-950f-18c1d15ff8c3",
   "metadata": {},
   "outputs": [],
   "source": [
    "category = ['Time', 'Multimedia', 'Money', 'Time', 'Internet', 'System', 'Science&Education']\n",
    "names: list = list(code_to_code_df['package'].unique())"
   ]
  },
  {
   "cell_type": "code",
   "execution_count": 83,
   "id": "c90e60e2-bf3c-4f7f-b96f-b3277b3992f5",
   "metadata": {},
   "outputs": [],
   "source": [
    "#Replace all rpackage with respective category\n",
    "\n",
    "for index, row in code_to_code_df.iterrows():\n",
    "    row['package'] =  category[names.index(row['package'])]"
   ]
  },
  {
   "cell_type": "code",
   "execution_count": 84,
   "id": "c95f5bfa-0f30-452a-8540-4512e65f40f0",
   "metadata": {},
   "outputs": [],
   "source": [
    "code_to_code_df.columns = ['category', 'resource-id', 'code']"
   ]
  },
  {
   "cell_type": "code",
   "execution_count": 85,
   "id": "32842553-f8a6-443f-80ed-17714a5e9b2b",
   "metadata": {},
   "outputs": [
    {
     "data": {
      "text/plain": [
       "6"
      ]
     },
     "execution_count": 85,
     "metadata": {},
     "output_type": "execute_result"
    }
   ],
   "source": [
    "len(code_to_code_df['category'].unique())"
   ]
  },
  {
   "cell_type": "code",
   "execution_count": 86,
   "id": "b142b5fa-1727-4984-90f0-32261b914c96",
   "metadata": {},
   "outputs": [],
   "source": [
    "code_to_code_df.to_excel( 'kotlin-code-code.xlsx', sheet_name='data', index = False)"
   ]
  },
  {
   "cell_type": "code",
   "execution_count": null,
   "id": "2404bcca-851c-4acf-8ef4-9c7b35b2e534",
   "metadata": {},
   "outputs": [],
   "source": []
  }
 ],
 "metadata": {
  "kernelspec": {
   "display_name": "Python 3 (ipykernel)",
   "language": "python",
   "name": "python3"
  },
  "language_info": {
   "codemirror_mode": {
    "name": "ipython",
    "version": 3
   },
   "file_extension": ".py",
   "mimetype": "text/x-python",
   "name": "python",
   "nbconvert_exporter": "python",
   "pygments_lexer": "ipython3",
   "version": "3.8.10"
  }
 },
 "nbformat": 4,
 "nbformat_minor": 5
}
