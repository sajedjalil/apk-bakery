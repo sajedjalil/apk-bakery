{
 "cells": [
  {
   "cell_type": "code",
   "execution_count": 13,
   "id": "bef9ac4e-ad42-42b9-a22c-31ecfc456e78",
   "metadata": {},
   "outputs": [],
   "source": [
    "import os\n",
    "import pandas as pd\n",
    "import xml.etree.ElementTree as ET"
   ]
  },
  {
   "cell_type": "code",
   "execution_count": 14,
   "id": "3bffcc2b-9732-4977-b5af-b2d3b53eb165",
   "metadata": {},
   "outputs": [
    {
     "name": "stdout",
     "output_type": "stream",
     "text": [
      "Requirement already satisfied: openpyxl in /home/sajed/anaconda3/envs/apk-bakery/lib/python3.10/site-packages (3.0.9)\n",
      "Requirement already satisfied: et-xmlfile in /home/sajed/anaconda3/envs/apk-bakery/lib/python3.10/site-packages (from openpyxl) (1.1.0)\n"
     ]
    }
   ],
   "source": [
    "!pip install openpyxl"
   ]
  },
  {
   "cell_type": "code",
   "execution_count": 15,
   "id": "0b5ff770-92c5-4dff-a3a2-061cca936ddb",
   "metadata": {},
   "outputs": [
    {
     "name": "stdout",
     "output_type": "stream",
     "text": [
      "com.byagowi.persiancalendar\n",
      "com.iven.musicplayergo\n",
      "com.greenaddress.greenbits_android_wallet\n",
      "com.frozendevs.cache.cleaner\n",
      "com.frozendevs.periodictable\n",
      "com.hobbyone.HashDroid\n",
      "ws.xsoh.etar\n",
      "com.amaze.filemanager\n",
      "com.google.android.apps.authenticator2\n",
      "org.xbmc.kodi\n",
      "org.torproject.torbrowser_alpha\n",
      "com.gsnathan.pdfviewer\n",
      "com.duckduckgo.mobile.android\n",
      "com.github.wdkapps.fillup\n",
      "com.adam.aslfms\n",
      "com.ames.books\n",
      "com.better.alarm\n",
      "com.redblaster.hsl.main\n",
      "de.danoeh.antennapod\n",
      "com.fsck.k9\n",
      "ch.blinkenlights.android.vanilla\n",
      "com.sagar.screenshift2\n",
      "com.danielkim.soundrecorder\n",
      "com.google.zxing.client.android\n"
     ]
    }
   ],
   "source": [
    "# Remove all files other than in screenshot and xml\n",
    "for dirs in os.listdir( os.path.join( os.getcwd(), 'crashScope') ):\n",
    "    print(dirs.split('-')[0])\n",
    "    for files in os.listdir(os.path.join( 'crashScope', dirs)): # inside each android package\n",
    "        if(os.path.isfile( os.path.join( os.getcwd(), 'crashScope', dirs, files) ) ):\n",
    "            os.remove( os.path.join( os.getcwd(), 'crashScope', dirs, files) )"
   ]
  },
  {
   "cell_type": "code",
   "execution_count": null,
   "id": "cc2cf483-b0b9-477d-b30e-ba7af6378125",
   "metadata": {},
   "outputs": [],
   "source": []
  },
  {
   "cell_type": "code",
   "execution_count": 16,
   "id": "e4b7af28-0c80-4874-ab4e-59dfc1e81f8b",
   "metadata": {},
   "outputs": [],
   "source": [
    "def getDynamicXmlData(xmlPath):\n",
    "    root = ET.parse( xmlPath ).getroot()\n",
    "    name = xml\n",
    "    \n",
    "    list = []\n",
    "    for neighbor in root.iter('*'):\n",
    "        if(len(neighbor) == 0 and neighbor.attrib['resource-id']):\n",
    "            list.append(neighbor.attrib['resource-id'])\n",
    "            \n",
    "    return list"
   ]
  },
  {
   "cell_type": "code",
   "execution_count": 17,
   "id": "b1af3946-cff9-4745-9b8d-31bb881593aa",
   "metadata": {},
   "outputs": [
    {
     "name": "stdout",
     "output_type": "stream",
     "text": [
      "10700\n"
     ]
    }
   ],
   "source": [
    "#map xmls and screenshots\n",
    "data = [] \n",
    "for dirs in os.listdir( os.path.join( os.getcwd(), 'crashScope') ):\n",
    "    \n",
    "    screenshots_folder = os.path.join('crashScope', dirs, 'screenshots')\n",
    "    screenshots = os.listdir( screenshots_folder )\n",
    "    \n",
    "    xmls_folder = os.path.join('crashScope', dirs, 'xmls')\n",
    "    xmls = os.listdir( xmls_folder )\n",
    "    xmls.sort() \n",
    "    \n",
    "    for xml in xmls:\n",
    "        xml_tokens = xml.split('-')\n",
    "        imagePaths = []\n",
    "        # print(xml_tokens[-2], xml_tokens[-1] )\n",
    "        for screenshot in screenshots:\n",
    "            \n",
    "            if( ( '_'+xml_tokens[-1].split('.')[0]+'.png') in screenshot  and xml_tokens[-2] in screenshot):\n",
    "                imagePaths.append( os.path.join(screenshots_folder, screenshot) )\n",
    "            if( ( '_'+xml_tokens[-1].split('.')[0]+'_augmented.png') in screenshot  and xml_tokens[-2] in screenshot):\n",
    "                imagePaths.append( os.path.join(screenshots_folder, screenshot) )\n",
    "            if( ( '_'+xml_tokens[-1].split('.')[0]+'_gui.png') in screenshot  and xml_tokens[-2] in screenshot):\n",
    "                imagePaths.append( os.path.join(screenshots_folder, screenshot) )\n",
    "        \n",
    "        for resource_id in getDynamicXmlData( os.path.join(xmls_folder, xml)):\n",
    "            data.append( [ dirs.split('-')[0], os.path.join(xmls_folder, xml), imagePaths, resource_id])\n",
    "\n",
    "print(len(data))"
   ]
  },
  {
   "cell_type": "code",
   "execution_count": 10,
   "id": "61be72bd-b635-4a21-8e9f-084fd542fb10",
   "metadata": {},
   "outputs": [
    {
     "data": {
      "text/html": [
       "<div>\n",
       "<style scoped>\n",
       "    .dataframe tbody tr th:only-of-type {\n",
       "        vertical-align: middle;\n",
       "    }\n",
       "\n",
       "    .dataframe tbody tr th {\n",
       "        vertical-align: top;\n",
       "    }\n",
       "\n",
       "    .dataframe thead th {\n",
       "        text-align: right;\n",
       "    }\n",
       "</style>\n",
       "<table border=\"1\" class=\"dataframe\">\n",
       "  <thead>\n",
       "    <tr style=\"text-align: right;\">\n",
       "      <th></th>\n",
       "      <th>packageName</th>\n",
       "      <th>xmlFilePath</th>\n",
       "      <th>imageFilePath</th>\n",
       "      <th>resourceIds</th>\n",
       "    </tr>\n",
       "  </thead>\n",
       "  <tbody>\n",
       "    <tr>\n",
       "      <th>0</th>\n",
       "      <td>com.byagowi.persiancalendar</td>\n",
       "      <td>crashScope/com.byagowi.persiancalendar-7.5.0/x...</td>\n",
       "      <td>[crashScope/com.byagowi.persiancalendar-7.5.0/...</td>\n",
       "      <td>com.byagowi.persiancalendar:id/search_button</td>\n",
       "    </tr>\n",
       "    <tr>\n",
       "      <th>1</th>\n",
       "      <td>com.byagowi.persiancalendar</td>\n",
       "      <td>crashScope/com.byagowi.persiancalendar-7.5.0/x...</td>\n",
       "      <td>[crashScope/com.byagowi.persiancalendar-7.5.0/...</td>\n",
       "      <td>com.byagowi.persiancalendar:id/previous</td>\n",
       "    </tr>\n",
       "    <tr>\n",
       "      <th>2</th>\n",
       "      <td>com.byagowi.persiancalendar</td>\n",
       "      <td>crashScope/com.byagowi.persiancalendar-7.5.0/x...</td>\n",
       "      <td>[crashScope/com.byagowi.persiancalendar-7.5.0/...</td>\n",
       "      <td>com.byagowi.persiancalendar:id/next</td>\n",
       "    </tr>\n",
       "    <tr>\n",
       "      <th>3</th>\n",
       "      <td>com.byagowi.persiancalendar</td>\n",
       "      <td>crashScope/com.byagowi.persiancalendar-7.5.0/x...</td>\n",
       "      <td>[crashScope/com.byagowi.persiancalendar-7.5.0/...</td>\n",
       "      <td>com.byagowi.persiancalendar:id/week_day_name</td>\n",
       "    </tr>\n",
       "    <tr>\n",
       "      <th>4</th>\n",
       "      <td>com.byagowi.persiancalendar</td>\n",
       "      <td>crashScope/com.byagowi.persiancalendar-7.5.0/x...</td>\n",
       "      <td>[crashScope/com.byagowi.persiancalendar-7.5.0/...</td>\n",
       "      <td>com.byagowi.persiancalendar:id/calendars_flow</td>\n",
       "    </tr>\n",
       "    <tr>\n",
       "      <th>...</th>\n",
       "      <td>...</td>\n",
       "      <td>...</td>\n",
       "      <td>...</td>\n",
       "      <td>...</td>\n",
       "    </tr>\n",
       "    <tr>\n",
       "      <th>10695</th>\n",
       "      <td>com.google.zxing.client.android</td>\n",
       "      <td>crashScope/com.google.zxing.client.android-4.7...</td>\n",
       "      <td>[crashScope/com.google.zxing.client.android-4....</td>\n",
       "      <td>com.google.zxing.client.android:id/app_picker_...</td>\n",
       "    </tr>\n",
       "    <tr>\n",
       "      <th>10696</th>\n",
       "      <td>com.google.zxing.client.android</td>\n",
       "      <td>crashScope/com.google.zxing.client.android-4.7...</td>\n",
       "      <td>[crashScope/com.google.zxing.client.android-4....</td>\n",
       "      <td>com.google.zxing.client.android:id/app_picker_...</td>\n",
       "    </tr>\n",
       "    <tr>\n",
       "      <th>10697</th>\n",
       "      <td>com.google.zxing.client.android</td>\n",
       "      <td>crashScope/com.google.zxing.client.android-4.7...</td>\n",
       "      <td>[crashScope/com.google.zxing.client.android-4....</td>\n",
       "      <td>com.google.zxing.client.android:id/app_picker_...</td>\n",
       "    </tr>\n",
       "    <tr>\n",
       "      <th>10698</th>\n",
       "      <td>com.google.zxing.client.android</td>\n",
       "      <td>crashScope/com.google.zxing.client.android-4.7...</td>\n",
       "      <td>[crashScope/com.google.zxing.client.android-4....</td>\n",
       "      <td>android:id/statusBarBackground</td>\n",
       "    </tr>\n",
       "    <tr>\n",
       "      <th>10699</th>\n",
       "      <td>com.google.zxing.client.android</td>\n",
       "      <td>crashScope/com.google.zxing.client.android-4.7...</td>\n",
       "      <td>[crashScope/com.google.zxing.client.android-4....</td>\n",
       "      <td>android:id/navigationBarBackground</td>\n",
       "    </tr>\n",
       "  </tbody>\n",
       "</table>\n",
       "<p>10700 rows × 4 columns</p>\n",
       "</div>"
      ],
      "text/plain": [
       "                           packageName  \\\n",
       "0          com.byagowi.persiancalendar   \n",
       "1          com.byagowi.persiancalendar   \n",
       "2          com.byagowi.persiancalendar   \n",
       "3          com.byagowi.persiancalendar   \n",
       "4          com.byagowi.persiancalendar   \n",
       "...                                ...   \n",
       "10695  com.google.zxing.client.android   \n",
       "10696  com.google.zxing.client.android   \n",
       "10697  com.google.zxing.client.android   \n",
       "10698  com.google.zxing.client.android   \n",
       "10699  com.google.zxing.client.android   \n",
       "\n",
       "                                             xmlFilePath  \\\n",
       "0      crashScope/com.byagowi.persiancalendar-7.5.0/x...   \n",
       "1      crashScope/com.byagowi.persiancalendar-7.5.0/x...   \n",
       "2      crashScope/com.byagowi.persiancalendar-7.5.0/x...   \n",
       "3      crashScope/com.byagowi.persiancalendar-7.5.0/x...   \n",
       "4      crashScope/com.byagowi.persiancalendar-7.5.0/x...   \n",
       "...                                                  ...   \n",
       "10695  crashScope/com.google.zxing.client.android-4.7...   \n",
       "10696  crashScope/com.google.zxing.client.android-4.7...   \n",
       "10697  crashScope/com.google.zxing.client.android-4.7...   \n",
       "10698  crashScope/com.google.zxing.client.android-4.7...   \n",
       "10699  crashScope/com.google.zxing.client.android-4.7...   \n",
       "\n",
       "                                           imageFilePath  \\\n",
       "0      [crashScope/com.byagowi.persiancalendar-7.5.0/...   \n",
       "1      [crashScope/com.byagowi.persiancalendar-7.5.0/...   \n",
       "2      [crashScope/com.byagowi.persiancalendar-7.5.0/...   \n",
       "3      [crashScope/com.byagowi.persiancalendar-7.5.0/...   \n",
       "4      [crashScope/com.byagowi.persiancalendar-7.5.0/...   \n",
       "...                                                  ...   \n",
       "10695  [crashScope/com.google.zxing.client.android-4....   \n",
       "10696  [crashScope/com.google.zxing.client.android-4....   \n",
       "10697  [crashScope/com.google.zxing.client.android-4....   \n",
       "10698  [crashScope/com.google.zxing.client.android-4....   \n",
       "10699  [crashScope/com.google.zxing.client.android-4....   \n",
       "\n",
       "                                             resourceIds  \n",
       "0           com.byagowi.persiancalendar:id/search_button  \n",
       "1                com.byagowi.persiancalendar:id/previous  \n",
       "2                    com.byagowi.persiancalendar:id/next  \n",
       "3           com.byagowi.persiancalendar:id/week_day_name  \n",
       "4          com.byagowi.persiancalendar:id/calendars_flow  \n",
       "...                                                  ...  \n",
       "10695  com.google.zxing.client.android:id/app_picker_...  \n",
       "10696  com.google.zxing.client.android:id/app_picker_...  \n",
       "10697  com.google.zxing.client.android:id/app_picker_...  \n",
       "10698                     android:id/statusBarBackground  \n",
       "10699                 android:id/navigationBarBackground  \n",
       "\n",
       "[10700 rows x 4 columns]"
      ]
     },
     "execution_count": 10,
     "metadata": {},
     "output_type": "execute_result"
    }
   ],
   "source": [
    "#create dataframe from list\n",
    "df = pd.DataFrame(data)\n",
    "df.columns = [ \"packageName\", \"xmlFilePath\", \"imageFilePath\", \"resourceIds\"]\n",
    "df"
   ]
  },
  {
   "cell_type": "code",
   "execution_count": 29,
   "id": "6d9cb480-f55a-490f-bdd5-73b296f70fab",
   "metadata": {},
   "outputs": [
    {
     "name": "stdout",
     "output_type": "stream",
     "text": [
      "2406\n",
      "10700\n"
     ]
    }
   ],
   "source": [
    "len(df['xmlFilePath'].unique())\n",
    "\n",
    "images = []\n",
    "\n",
    "for imgs in df['imageFilePath']:\n",
    "    images.extend( imgs)\n",
    "    \n",
    "\n",
    "img = pd.DataFrame(images)\n",
    "print(len(img[0].unique()) )\n",
    "\n",
    "print(len(df['resourceIds']))"
   ]
  },
  {
   "cell_type": "code",
   "execution_count": 37,
   "id": "858e9eea-4041-4590-8222-e8d941c33a85",
   "metadata": {},
   "outputs": [],
   "source": [
    "df.to_excel( 'dynamicMapping.xlsx', sheet_name='data', index = False)"
   ]
  }
 ],
 "metadata": {
  "kernelspec": {
   "display_name": "Python 3 (ipykernel)",
   "language": "python",
   "name": "python3"
  },
  "language_info": {
   "codemirror_mode": {
    "name": "ipython",
    "version": 3
   },
   "file_extension": ".py",
   "mimetype": "text/x-python",
   "name": "python",
   "nbconvert_exporter": "python",
   "pygments_lexer": "ipython3",
   "version": "3.8.10"
  }
 },
 "nbformat": 4,
 "nbformat_minor": 5
}
