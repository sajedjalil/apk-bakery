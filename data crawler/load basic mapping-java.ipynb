{
 "cells": [
  {
   "cell_type": "code",
   "execution_count": 1,
   "id": "6f37eadb-217b-48a2-baf1-aa202c5659c3",
   "metadata": {},
   "outputs": [],
   "source": [
    "from openpyxl import load_workbook\n",
    "import pandas as pd\n",
    "from kopyt import Parser, node"
   ]
  },
  {
   "cell_type": "code",
   "execution_count": 2,
   "id": "091f9375-f8f3-4a77-a232-80dcd89bf511",
   "metadata": {},
   "outputs": [
    {
     "name": "stdout",
     "output_type": "stream",
     "text": [
      "Requirement already satisfied: javalang in /home/sajed/anaconda3/envs/apk-bakery/lib/python3.10/site-packages (0.13.0)\n",
      "Requirement already satisfied: six in /home/sajed/anaconda3/envs/apk-bakery/lib/python3.10/site-packages (from javalang) (1.16.0)\n"
     ]
    }
   ],
   "source": [
    "!pip install javalang"
   ]
  },
  {
   "cell_type": "code",
   "execution_count": 3,
   "id": "d8c8ca42-3985-4c1b-b350-6475cd6aba50",
   "metadata": {},
   "outputs": [],
   "source": [
    "import javalang"
   ]
  },
  {
   "cell_type": "code",
   "execution_count": 4,
   "id": "58539881-2569-45b3-ae08-aa5bc1065a37",
   "metadata": {},
   "outputs": [],
   "source": [
    "df = pd.read_excel('FinalDataset-test0.xlsx', sheet_name = 'data' )\n",
    "\n"
   ]
  },
  {
   "cell_type": "code",
   "execution_count": 5,
   "id": "e8d8d21e-9f2b-42e6-902f-cad99e26c333",
   "metadata": {},
   "outputs": [
    {
     "name": "stdout",
     "output_type": "stream",
     "text": [
      "Index(['package', 'xml', 'png', 'resourceId', 'filePath', 'location'], dtype='object')\n"
     ]
    }
   ],
   "source": [
    "print(df.columns)"
   ]
  },
  {
   "cell_type": "code",
   "execution_count": 55,
   "id": "99171a5e-454c-4079-aad9-d8052557adb0",
   "metadata": {},
   "outputs": [],
   "source": [
    "def getfileContent(path):\n",
    "    f = open(path, \"r\")\n",
    "    content = f.read()\n",
    "    \n",
    "    return content"
   ]
  },
  {
   "cell_type": "code",
   "execution_count": 56,
   "id": "38e54a72-a80f-4907-862f-6c3610fcfc95",
   "metadata": {},
   "outputs": [],
   "source": [
    "def getResultForJava(path, line):\n",
    "    \n",
    "    code = getfileContent(path)\n",
    "    \n",
    "    tree = javalang.parse.parse(code)\n",
    "    \n",
    "    for path, node in tree.filter(javalang.tree.FieldDeclaration):\n",
    "        print( node.position )\n",
    "    return 1"
   ]
  },
  {
   "cell_type": "code",
   "execution_count": 57,
   "id": "0e781d69-a4df-44d5-acca-b908bea5b3c5",
   "metadata": {},
   "outputs": [],
   "source": [
    "result = []"
   ]
  },
  {
   "cell_type": "code",
   "execution_count": null,
   "id": "334a1b44-66d1-4d51-a872-4f7e9deef25c",
   "metadata": {},
   "outputs": [],
   "source": [
    "counter = 0\n",
    "for index, row in df.iterrows():\n",
    "    \n",
    "    path = row['filePath']\n",
    "    line = row['location'].split(',')[0].split('=')[-1]\n",
    "    \n",
    "    \n",
    "    data: str = \"\"\n",
    "    \n",
    "    if path.split('.')[-1] == 'java':\n",
    "        print(path)\n",
    "        getResultForJava(path, line)\n",
    "        counter = counter +1\n",
    "        \n",
    "    if(counter == 10):\n",
    "        break"
   ]
  },
  {
   "cell_type": "code",
   "execution_count": 21,
   "id": "12b3be1d-5f56-4611-8ad5-3f8fdd15b827",
   "metadata": {},
   "outputs": [
    {
     "name": "stdout",
     "output_type": "stream",
     "text": [
      "0\n"
     ]
    }
   ],
   "source": [
    "# print(result)\n",
    "print(counter)\n",
    "\n",
    "kt = pd.DataFrame(result)"
   ]
  },
  {
   "cell_type": "code",
   "execution_count": null,
   "id": "511b105c-1e4c-453d-89b1-4b2fac38fb62",
   "metadata": {},
   "outputs": [],
   "source": [
    "kt.to_excel( 'java-mapping.xlsx', sheet_name='data', index = False)"
   ]
  },
  {
   "cell_type": "code",
   "execution_count": null,
   "id": "138f9cd2-489e-422b-9387-09191b24b352",
   "metadata": {},
   "outputs": [],
   "source": []
  }
 ],
 "metadata": {
  "kernelspec": {
   "display_name": "Python 3 (ipykernel)",
   "language": "python",
   "name": "python3"
  },
  "language_info": {
   "codemirror_mode": {
    "name": "ipython",
    "version": 3
   },
   "file_extension": ".py",
   "mimetype": "text/x-python",
   "name": "python",
   "nbconvert_exporter": "python",
   "pygments_lexer": "ipython3",
   "version": "3.8.10"
  }
 },
 "nbformat": 4,
 "nbformat_minor": 5
}
